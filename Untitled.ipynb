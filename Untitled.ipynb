{
 "cells": [
  {
   "cell_type": "code",
   "execution_count": null,
   "metadata": {},
   "outputs": [],
   "source": [
    "def TokenizeQuery(query):\n",
    "    query_t = query.split()\n",
    "    return query_t"
   ]
  },
  {
   "cell_type": "code",
   "execution_count": null,
   "metadata": {},
   "outputs": [],
   "source": [
    "def Tokenizefiles(path):\n",
    "    a=[]\n",
    "    with open(path,'r') as f :\n",
    "        for line in f :\n",
    "            for word in line.split() :\n",
    "                a.append(word)\n",
    "    return a"
   ]
  },
  {
   "cell_type": "code",
   "execution_count": 87,
   "metadata": {},
   "outputs": [],
   "source": [
    "def RemoveStopWords(listOfWords):\n",
    "    stop_words = ['.','i', 'me', 'my', 'myself', 'we', 'our', 'ours', 'ourselves', 'you', \"you're\", \"you've\", \"you'll\", \"you'd\", 'your', 'yours', 'yourself', 'yourselves', 'he', 'him', 'his', 'himself', 'she', \"she's\", 'her', 'hers', 'herself', 'it', \"it's\", 'its', 'itself', 'they', 'them', 'their', 'theirs', 'themselves', 'what', 'which', 'who', 'whom', 'this', 'that', \"that'll\", 'these', 'those', 'am', 'is', 'are', 'was', 'were', 'be', 'been', 'being', 'have', 'has', 'had', 'having', 'do', 'does', 'did', 'doing', 'a', 'an', 'the', 'and', 'but', 'if', 'or', 'because', 'as', 'until', 'while', 'of', 'at', 'by', 'for', 'with', 'about', 'against', 'between', 'into', 'through', 'during', 'before', 'after', 'above', 'below', 'to', 'from', 'up', 'down', 'in', 'out', 'on', 'off', 'over', 'under', 'again', 'further', 'then', 'once', 'here', 'there', 'when', 'where', 'why', 'how', 'all', 'any', 'both', 'each', 'few', 'more', 'most', 'other', 'some', 'such', 'no', 'nor', 'not', 'only', 'own', 'same', 'so', 'than', 'too', 'very', 's', 't', 'can', 'will', 'just', 'don', \"don't\", 'should', \"should've\", 'now', 'd', 'll', 'm', 'o', 're', 've', 'y', 'ain', 'aren', \"aren't\", 'couldn', \"couldn't\", 'didn', \"didn't\", 'doesn', \"doesn't\", 'hadn', \"hadn't\", 'hasn', \"hasn't\", 'haven', \"haven't\", 'isn', \"isn't\", 'ma', 'mightn', \"mightn't\", 'mustn', \"mustn't\", 'needn', \"needn't\", 'shan', \"shan't\", 'shouldn', \"shouldn't\", 'wasn', \"wasn't\", 'weren', \"weren't\", 'won', \"won't\", 'wouldn', \"wouldn't\"]\n",
    "    list_pre = [w for w in listOfWords if not w in stop_words]  \n",
    "    list_pre = []\n",
    "    for w in listOfWords:  \n",
    "        if w not in stop_words:  \n",
    "            list_pre.append(w) \n",
    "    return list_pre"
   ]
  },
  {
   "cell_type": "code",
   "execution_count": 88,
   "metadata": {},
   "outputs": [],
   "source": [
    "query = \"Helwan University\""
   ]
  },
  {
   "cell_type": "code",
   "execution_count": 89,
   "metadata": {},
   "outputs": [],
   "source": [
    "query_pre =  RemoveStopWords(TokenizeQuery(query))"
   ]
  },
  {
   "cell_type": "code",
   "execution_count": 90,
   "metadata": {},
   "outputs": [
    {
     "data": {
      "text/plain": [
       "['Helwan', 'University']"
      ]
     },
     "execution_count": 90,
     "metadata": {},
     "output_type": "execute_result"
    }
   ],
   "source": [
    "query_pre"
   ]
  },
  {
   "cell_type": "code",
   "execution_count": 91,
   "metadata": {},
   "outputs": [],
   "source": [
    "# # In this example, we create the positional index for only 1 folder. \n",
    "# folder_names = [\"comp.graphics\"] "
   ]
  },
  {
   "cell_type": "code",
   "execution_count": 92,
   "metadata": {},
   "outputs": [],
   "source": [
    "# Initialize the dictionary. \n",
    "pos_index = {} "
   ]
  },
  {
   "cell_type": "code",
   "execution_count": 93,
   "metadata": {
    "pixiedust": {
     "displayParams": {}
    }
   },
   "outputs": [],
   "source": [
    "# For every file. \n",
    "for i in range(1,11): \n",
    "    path = \"file\" + str(i) + \".txt\"\n",
    "    final_token_list =  RemoveStopWords(Tokenizefiles(path))\n",
    "    # For position and term in the tokens. \n",
    "    for pos, term in enumerate(final_token_list): \n",
    "        # If term already exists in the positional index dictionary. \n",
    "        if term in pos_index: \n",
    "            # Increment total freq by 1.\n",
    "            pos_index[term][0] = pos_index[term][0] + 1\n",
    "            # Check if the term has existed in that DocID before.\n",
    "            if i in pos_index[term][1]: \n",
    "                pos_index[term][1][i].append(pos)\n",
    "            else: \n",
    "                pos_index[term][1][i] = [pos]\n",
    "        # If term does not exist in the positional index dictionary\n",
    "        # (first encounter). \n",
    "        else:\n",
    "            # Initialize the list.\n",
    "            pos_index[term] = []\n",
    "            #The total frequency is 1.\n",
    "            pos_index[term].append(1)\n",
    "            # The postings list is initially empty.\n",
    "            pos_index[term].append({})\n",
    "            # Add doc ID to postings list.\n",
    "            pos_index[term][1][i] = [pos]"
   ]
  },
  {
   "cell_type": "code",
   "execution_count": 94,
   "metadata": {},
   "outputs": [
    {
     "name": "stdout",
     "output_type": "stream",
     "text": [
      "{'Helwan': [7, {1: [0, 4], 2: [0, 3], 3: [0], 5: [0], 7: [0]}], 'Uni': [4, {1: [1], 2: [1], 5: [1], 7: [1]}], 'many': [3, {1: [2], 5: [2], 7: [2]}], 'students': [3, {1: [3], 2: [2], 5: [3]}], \"Uni's\": [3, {1: [5], 2: [4], 3: [1]}], 'Cairo': [3, {1: [6], 2: [5], 3: [2]}], 'Hellooooooo': [3, {1: [7], 3: [3], 4: [0]}], 'helwan': [3, {2: [6], 6: [1], 8: [0]}], 'hello': [1, {6: [0]}], 'university': [2, {8: [1], 10: [1]}], 'cairoo': [1, {9: [0]}], 'cairo': [1, {10: [0]}]}\n"
     ]
    }
   ],
   "source": [
    "print(pos_index)"
   ]
  },
  {
   "cell_type": "code",
   "execution_count": 95,
   "metadata": {
    "scrolled": true
   },
   "outputs": [
    {
     "name": "stdout",
     "output_type": "stream",
     "text": [
      "PositionUnial Index\n",
      "[4, {1: [1], 2: [1], 5: [1], 7: [1]}]\n"
     ]
    }
   ],
   "source": [
    "# Sample positional index to test the code. \n",
    "sample_pos_idx = pos_index[\"Uni\"] \n",
    "print(\"PositionUnial Index\") \n",
    "print(sample_pos_idx) "
   ]
  },
  {
   "cell_type": "code",
   "execution_count": 96,
   "metadata": {},
   "outputs": [
    {
     "name": "stdout",
     "output_type": "stream",
     "text": [
      "[7, {1: [0, 4], 2: [0, 3], 3: [0], 5: [0], 7: [0]}]\n"
     ]
    }
   ],
   "source": [
    "query1 = pos_index[\"Helwan\"]\n",
    "print(query1)"
   ]
  },
  {
   "cell_type": "code",
   "execution_count": 97,
   "metadata": {},
   "outputs": [
    {
     "name": "stdout",
     "output_type": "stream",
     "text": [
      "[4, {1: [1], 2: [1], 5: [1], 7: [1]}]\n"
     ]
    }
   ],
   "source": [
    "query2 = pos_index[\"Uni\"]\n",
    "print(query2)"
   ]
  },
  {
   "cell_type": "code",
   "execution_count": 111,
   "metadata": {},
   "outputs": [],
   "source": [
    "def PositionalMerge(w1,w2):\n",
    "    answer = {}\n",
    "    i=0 \n",
    "    j=0\n",
    "    wl1 = list(w1[1])\n",
    "    wl2 = list(w2[1])\n",
    "    while bool(wl1) and bool(wl2):\n",
    "        #If Dw1 = Dw2\n",
    "        if wl1[i] == wl2[j]:\n",
    "            l = {}\n",
    "            x = wl1[i]\n",
    "            y = wl2[j]\n",
    "            pw1 = w1[1][x]\n",
    "            pw2 = w2[1][y]\n",
    "            i2 = 0 \n",
    "            j2 = 0\n",
    "            while bool(pw1) and bool(pw2):\n",
    "                if ((pw2[j2] - pw1[i2]) == 1):\n",
    "                    #if D is existing ( just append the index )\n",
    "                    if x in answer:\n",
    "                        answer[x].append(pw2[j2])\n",
    "                    #if D is not existing ( append the index and the document )\n",
    "                    else:\n",
    "                        answer[x] = []\n",
    "                        answer[x].append(pw2[j2])\n",
    "                elif((pw2[j2] - pw1[i2]) < 1):\n",
    "                    j2=j2+1\n",
    "                    break;\n",
    "                elif ((pw2[j2] - pw1[i2]) > 1):\n",
    "                    i2=i2+1;\n",
    "                    break;\n",
    "        #If Dw1 < Dw2\n",
    "        elif wl1[i] < wl2[j]:\n",
    "            i= i+1;\n",
    "            break;\n",
    "        #If Dw1 > Dw2\n",
    "        elif wl1[i] > wl2[j]:\n",
    "            j=j+1;\n",
    "            break;\n",
    "                    \n",
    "    return answer               \n",
    "                    \n",
    "                    "
   ]
  },
  {
   "cell_type": "code",
   "execution_count": null,
   "metadata": {
    "scrolled": true
   },
   "outputs": [],
   "source": [
    "print(PositionalMerge(query1,query2))"
   ]
  }
 ],
 "metadata": {
  "kernelspec": {
   "display_name": "Python 3",
   "language": "python",
   "name": "python3"
  },
  "language_info": {
   "codemirror_mode": {
    "name": "ipython",
    "version": 3
   },
   "file_extension": ".py",
   "mimetype": "text/x-python",
   "name": "python",
   "nbconvert_exporter": "python",
   "pygments_lexer": "ipython3",
   "version": "3.7.4"
  }
 },
 "nbformat": 4,
 "nbformat_minor": 4
}
