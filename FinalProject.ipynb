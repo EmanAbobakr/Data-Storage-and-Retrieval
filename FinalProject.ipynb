{
 "cells": [
  {
   "cell_type": "code",
   "execution_count": 5,
   "metadata": {},
   "outputs": [],
   "source": [
    "from collections import Counter \n",
    "from glob import iglob\n",
    "import os\n",
    "import pathlib\n",
    "import math \n",
    "import re\n"
   ]
  },
  {
   "cell_type": "code",
   "execution_count": 42,
   "metadata": {},
   "outputs": [],
   "source": [
    "#Tokenize file\n",
    "def Tokenizefiles(path):\n",
    "    tokenizedFile = []\n",
    "    with open(path,'r') as f :\n",
    "        for line in f :\n",
    "            for word in line.split() :\n",
    "                tokenizedFile.append(word)\n",
    "    return tokenizedFile"
   ]
  },
  {
   "cell_type": "code",
   "execution_count": 43,
   "metadata": {},
   "outputs": [],
   "source": [
    "#remove stop words from list of words from tokenize fn.\n",
    "def RemoveStopWords(listOfWords):\n",
    "    stop_words = ['.','i', 'me', 'my', 'myself', 'we', 'our', 'ours', 'ourselves', 'you', \"you're\", \"you've\", \"you'll\", \"you'd\", 'your', 'yours', 'yourself', 'yourselves', 'he', 'him', 'his', 'himself', 'she', \"she's\", 'her', 'hers', 'herself', 'it', \"it's\", 'its', 'itself', 'they', 'them', 'their', 'theirs', 'themselves', 'what', 'which', 'who', 'whom', 'this', 'that', \"that'll\", 'these', 'those', 'am', 'is', 'are', 'was', 'were', 'be', 'been', 'being', 'have', 'has', 'had', 'having', 'do', 'does', 'did', 'doing', 'a', 'an', 'the', 'and', 'but', 'if', 'or', 'because', 'as', 'until', 'while', 'of', 'at', 'by', 'for', 'with', 'about', 'against', 'between', 'into', 'through', 'during', 'before', 'after', 'above', 'below', 'to', 'from', 'up', 'down', 'in', 'out', 'on', 'off', 'over', 'under', 'again', 'further', 'then', 'once', 'here', 'there', 'when', 'where', 'why', 'how', 'all', 'any', 'both', 'each', 'few', 'more', 'most', 'other', 'some', 'such', 'no', 'nor', 'not', 'only', 'own', 'same', 'so', 'than', 'too', 'very', 's', 't', 'can', 'will', 'just', 'don', \"don't\", 'should', \"should've\", 'now', 'd', 'll', 'm', 'o', 're', 've', 'y', 'ain', 'aren', \"aren't\", 'couldn', \"couldn't\", 'didn', \"didn't\", 'doesn', \"doesn't\", 'hadn', \"hadn't\", 'hasn', \"hasn't\", 'haven', \"haven't\", 'isn', \"isn't\", 'ma', 'mightn', \"mightn't\", 'mustn', \"mustn't\", 'needn', \"needn't\", 'shan', \"shan't\", 'shouldn', \"shouldn't\", 'wasn', \"wasn't\", 'weren', \"weren't\", 'won', \"won't\", 'wouldn', \"wouldn't\"]\n",
    "    list_preprocessed = [w for w in listOfWords if not w in stop_words]  \n",
    "    list_preprocessed = []\n",
    "    for w in listOfWords:  \n",
    "        if w not in stop_words:  \n",
    "            list_preprocessed.append(w) \n",
    "    return list_preprocessed"
   ]
  },
  {
   "cell_type": "code",
   "execution_count": 44,
   "metadata": {},
   "outputs": [],
   "source": [
    "def TokenizeQuery(query):\n",
    "    tokenizedQuery = query.split()\n",
    "    return tokenizedQuery"
   ]
  },
  {
   "cell_type": "markdown",
   "metadata": {},
   "source": [
    "#The positional index"
   ]
  },
  {
   "cell_type": "code",
   "execution_count": 45,
   "metadata": {},
   "outputs": [],
   "source": [
    "# Initialize the dictionary. \n",
    "pos_index = {} "
   ]
  },
  {
   "cell_type": "code",
   "execution_count": 46,
   "metadata": {
    "pixiedust": {
     "displayParams": {}
    }
   },
   "outputs": [],
   "source": [
    "for i in range(1,11): \n",
    "    path = \"file\" + str(i) + \".txt\"\n",
    "    final_token_list =  RemoveStopWords(Tokenizefiles(path)) #tokenize->removeStopWords->ListOfWords without stopWords\n",
    "    # For position and term in the tokens. \n",
    "    for pos, term in enumerate(final_token_list): #EveryWord with its position in list\n",
    "        # If term already exists in the positional index dictionary. \n",
    "        if term in pos_index: \n",
    "            # Increment total freq by 1.\n",
    "            pos_index[term][0] = pos_index[term][0] + 1\n",
    "            # Check if the term has existed in that DocID before.\n",
    "            if i in pos_index[term][1]: \n",
    "                pos_index[term][1][i].append(pos)\n",
    "            else: \n",
    "                pos_index[term][1][i] = [pos]\n",
    "        # If term does not exist in the positional index dictionary\n",
    "        # (first encounter). \n",
    "        else:\n",
    "            # Initialize the list.\n",
    "            pos_index[term] = []\n",
    "            #The total frequency is 1.\n",
    "            pos_index[term].append(1)\n",
    "            # The postings list is initially empty.\n",
    "            pos_index[term].append({})\n",
    "            # Add doc ID to postings list.\n",
    "            pos_index[term][1][i] = [pos]"
   ]
  },
  {
   "cell_type": "code",
   "execution_count": 47,
   "metadata": {},
   "outputs": [
    {
     "name": "stdout",
     "output_type": "stream",
     "text": [
      "{'Text': [3, {1: [0], 2: [0], 3: [0]}], 'messages': [3, {1: [1], 2: [1], 3: [1]}], 'used': [3, {1: [2], 2: [2], 3: [2]}], 'personal': [3, {1: [3], 2: [3], 3: [3]}], ',': [5, {1: [4, 6], 2: [4, 6], 5: [8]}], 'family': [1, {1: [5]}], 'social': [3, {1: [7], 2: [7], 5: [9]}], 'purposes': [4, {1: [8], 2: [8], 3: [4], 5: [10]}], 'Governmental': [4, {1: [9], 2: [9], 4: [0], 5: [0]}], 'organizations': [4, {1: [10], 2: [10], 4: [1], 5: [1]}], 'use': [4, {1: [11], 2: [11], 4: [2], 5: [2]}], 'text': [4, {1: [12], 2: [12], 4: [3], 5: [3]}], 'messaging': [4, {1: [13], 2: [13], 4: [4], 5: [4]}], 'communication': [4, {1: [14], 2: [14], 4: [5], 5: [5]}], 'colleagues': [4, {1: [15], 2: [15], 4: [6], 5: [6]}], 'business': [2, {2: [5], 5: [7]}], 'hello': [1, {6: [0]}], 'helwan': [2, {6: [1], 8: [0]}], 'Helwan': [1, {7: [0]}], 'Uni': [1, {7: [1]}], 'many': [1, {7: [2]}], 'university': [2, {8: [1], 10: [1]}], 'cairoo': [1, {9: [0]}], 'cairo': [1, {10: [0]}]}\n"
     ]
    }
   ],
   "source": [
    "print(pos_index)"
   ]
  },
  {
   "cell_type": "code",
   "execution_count": 48,
   "metadata": {},
   "outputs": [],
   "source": [
    "def PositionalMerge(w1,w2):\n",
    "    answer = {}\n",
    "    #i=0 \n",
    "    #j=0\n",
    "    wl1 = list(w1[1]) #List of Keys (List of Documents (word1)) #[1,2,3,5,7] [2,3,5,7] [5,7]\n",
    "    wl2 = list(w2[1]) #List of Keys (List of Documents (word2)) #[1,2,5,7] [2,5,7] [5,7]\n",
    "    while bool(wl1) and bool(wl2):\n",
    "        #If Dw1 = Dw2\n",
    "        if wl1[0] == wl2[0]: #5==5 true\n",
    "            x = wl1[0] #A document from word1's documents #x=5\n",
    "            y = wl2[0] #A document from word2's documents #y=5\n",
    "            pw1 = w1[1][x] # =[0,4] w1[1][2]=[0,3]\n",
    "            pw2 = w2[1][y] # =[1] w2[1][2]=[1]\n",
    "            i2 = 0 #\n",
    "            j2 = 0 #\n",
    "            while bool(pw1) and bool(pw2): #[0,4] [1]\n",
    "                if (pw2[0] - pw1[0]) == 1: #true\n",
    "                    #if D is existing ( just append the index )\n",
    "                    if x in answer:\n",
    "                        answer[x].append(pw2[0])\n",
    "                        pw2.pop(0)\n",
    "                        pw1.pop(0)\n",
    "                    #if D is not existing ( append the index and the document )\n",
    "                    else:\n",
    "                        answer[x] = [] #answer{1:[],2:[]}\n",
    "                        answer[x].append(pw2[0]) #answer{1:[1],2:[1]} \n",
    "                        pw2.pop(0) #[4]\n",
    "                        pw1.pop(0) #[]\n",
    "                    #i2 = i2 + 1\n",
    "                    #j2 = j2 + 1\n",
    "                \n",
    "                elif (pw2[0] - pw1[0]) < 1:\n",
    "                    j2=j2+1;\n",
    "                    pw2.pop(0)\n",
    "                elif (pw2[0] - pw1[0]) > 1:\n",
    "                    i2=i2+1;\n",
    "                    pw1.pop(0)\n",
    "            #i = i+1; #i=1\n",
    "            #j = j+1; #j=1\n",
    "            wl1.pop(0)\n",
    "            wl2.pop(0)\n",
    "            \n",
    "        #If Dw1 < Dw2\n",
    "        elif wl1[0] < wl2[0]:\n",
    "            #i= i+1;\n",
    "            wl1.pop(0)\n",
    "        #If Dw1 > Dw2\n",
    "        elif wl1[0] > wl2[0]:\n",
    "            #j=j+1;\n",
    "            wl2.pop(0)\n",
    "                    \n",
    "    return answer                 "
   ]
  },
  {
   "cell_type": "code",
   "execution_count": 49,
   "metadata": {},
   "outputs": [
    {
     "name": "stdout",
     "output_type": "stream",
     "text": [
      "Enter a phrase query\n"
     ]
    }
   ],
   "source": [
    "print(\"Enter a phrase query\")"
   ]
  },
  {
   "cell_type": "code",
   "execution_count": null,
   "metadata": {},
   "outputs": [],
   "source": [
    "query = input()"
   ]
  },
  {
   "cell_type": "code",
   "execution_count": 10,
   "metadata": {},
   "outputs": [],
   "source": [
    "preprocessedQuery =  RemoveStopWords(TokenizeQuery(query))"
   ]
  },
  {
   "cell_type": "code",
   "execution_count": 11,
   "metadata": {
    "scrolled": true
   },
   "outputs": [
    {
     "data": {
      "text/plain": [
       "['Governmental', 'organizations']"
      ]
     },
     "execution_count": 11,
     "metadata": {},
     "output_type": "execute_result"
    }
   ],
   "source": [
    "preprocessedQuery"
   ]
  },
  {
   "cell_type": "code",
   "execution_count": 12,
   "metadata": {},
   "outputs": [
    {
     "data": {
      "text/plain": [
       "2"
      ]
     },
     "execution_count": 12,
     "metadata": {},
     "output_type": "execute_result"
    }
   ],
   "source": [
    "len(preprocessedQuery)"
   ]
  },
  {
   "cell_type": "code",
   "execution_count": 13,
   "metadata": {},
   "outputs": [
    {
     "name": "stdout",
     "output_type": "stream",
     "text": [
      "[4, {1: [9], 2: [9], 4: [0], 5: [0]}]\n",
      "[4, {1: [10], 2: [10], 4: [1], 5: [1]}]\n"
     ]
    }
   ],
   "source": [
    "for w in preprocessedQuery:\n",
    "    print(pos_index[w])"
   ]
  },
  {
   "cell_type": "code",
   "execution_count": 14,
   "metadata": {},
   "outputs": [
    {
     "name": "stdout",
     "output_type": "stream",
     "text": [
      "{1: [10], 2: [10], 4: [1], 5: [1]}\n"
     ]
    }
   ],
   "source": [
    "final = PositionalMerge(pos_index[preprocessedQuery[0]],pos_index[preprocessedQuery[1]])\n",
    "print(final)"
   ]
  },
  {
   "cell_type": "code",
   "execution_count": 16,
   "metadata": {},
   "outputs": [],
   "source": [
    "def tf(path):\n",
    "    tfs = []\n",
    "    with open(path,'r') as f :\n",
    "        for line in f :\n",
    "            dic={}\n",
    "        for word in document.split():\n",
    "            if word in dic:\n",
    "                dic[word]+=1\n",
    "            else:\n",
    "                dic[word]=1\n",
    "        for word,freq in dic.items():\n",
    "            print(word,freq)\n",
    "            dic[word]=freq/len(document.split())\n",
    "    tfs.append(dic)\n",
    "    return tfs"
   ]
  },
  {
   "cell_type": "code",
   "execution_count": 40,
   "metadata": {},
   "outputs": [
    {
     "name": "stdout",
     "output_type": "stream",
     "text": [
      "C:\\Users\\kareem\\Desktop\\IRPro\\IRPro\n"
     ]
    },
    {
     "ename": "PermissionError",
     "evalue": "[Errno 13] Permission denied: 'C:\\\\Users\\\\kareem\\\\Desktop\\\\IRPro\\\\IRPro'",
     "output_type": "error",
     "traceback": [
      "\u001b[1;31m---------------------------------------------------------------------------\u001b[0m",
      "\u001b[1;31mPermissionError\u001b[0m                           Traceback (most recent call last)",
      "\u001b[1;32m<ipython-input-40-bc15e1ae2dc6>\u001b[0m in \u001b[0;36m<module>\u001b[1;34m\u001b[0m\n\u001b[0;32m     29\u001b[0m         \u001b[1;32mreturn\u001b[0m\u001b[1;33m(\u001b[0m\u001b[0mf\u001b[0m\u001b[1;33m.\u001b[0m\u001b[0mread\u001b[0m\u001b[1;33m(\u001b[0m \u001b[1;33m)\u001b[0m\u001b[1;33m.\u001b[0m\u001b[0msplit\u001b[0m\u001b[1;33m(\u001b[0m\u001b[1;34m' '\u001b[0m\u001b[1;33m)\u001b[0m\u001b[1;33m)\u001b[0m\u001b[1;33m\u001b[0m\u001b[1;33m\u001b[0m\u001b[0m\n\u001b[0;32m     30\u001b[0m \u001b[1;33m\u001b[0m\u001b[0m\n\u001b[1;32m---> 31\u001b[1;33m \u001b[0mwords2\u001b[0m \u001b[1;33m=\u001b[0m \u001b[0mword_count\u001b[0m\u001b[1;33m(\u001b[0m\u001b[0mfolderpath\u001b[0m\u001b[1;33m)\u001b[0m\u001b[1;33m\u001b[0m\u001b[1;33m\u001b[0m\u001b[0m\n\u001b[0m",
      "\u001b[1;32m<ipython-input-40-bc15e1ae2dc6>\u001b[0m in \u001b[0;36mword_count\u001b[1;34m(file_name)\u001b[0m\n\u001b[0;32m     26\u001b[0m \u001b[1;33m\u001b[0m\u001b[0m\n\u001b[0;32m     27\u001b[0m \u001b[1;32mdef\u001b[0m \u001b[0mword_count\u001b[0m\u001b[1;33m(\u001b[0m\u001b[0mfile_name\u001b[0m\u001b[1;33m)\u001b[0m\u001b[1;33m:\u001b[0m\u001b[1;33m\u001b[0m\u001b[1;33m\u001b[0m\u001b[0m\n\u001b[1;32m---> 28\u001b[1;33m     \u001b[1;32mwith\u001b[0m \u001b[0mopen\u001b[0m \u001b[1;33m(\u001b[0m\u001b[0mfile_name\u001b[0m\u001b[1;33m)\u001b[0m \u001b[1;32mas\u001b[0m \u001b[0mf\u001b[0m\u001b[1;33m:\u001b[0m\u001b[1;33m\u001b[0m\u001b[1;33m\u001b[0m\u001b[0m\n\u001b[0m\u001b[0;32m     29\u001b[0m         \u001b[1;32mreturn\u001b[0m\u001b[1;33m(\u001b[0m\u001b[0mf\u001b[0m\u001b[1;33m.\u001b[0m\u001b[0mread\u001b[0m\u001b[1;33m(\u001b[0m \u001b[1;33m)\u001b[0m\u001b[1;33m.\u001b[0m\u001b[0msplit\u001b[0m\u001b[1;33m(\u001b[0m\u001b[1;34m' '\u001b[0m\u001b[1;33m)\u001b[0m\u001b[1;33m)\u001b[0m\u001b[1;33m\u001b[0m\u001b[1;33m\u001b[0m\u001b[0m\n\u001b[0;32m     30\u001b[0m \u001b[1;33m\u001b[0m\u001b[0m\n",
      "\u001b[1;31mPermissionError\u001b[0m: [Errno 13] Permission denied: 'C:\\\\Users\\\\kareem\\\\Desktop\\\\IRPro\\\\IRPro'"
     ]
    }
   ],
   "source": [
    "def remove_garbage(text):\n",
    "    text = re.sub(r\"\\w+\",'',text)\n",
    "    text = text.lower()\n",
    "    return text\n",
    "\n",
    "docnum= [ ]\n",
    "topwords = 100\n",
    "folderpath = pathlib.Path().absolute()\n",
    "print(folderpath)\n",
    "counter = Counter()\n",
    "for filepath in iglob(os.path.join( folderpath, '*.txt')):\n",
    "    with open(filepath) as file:\n",
    "        words = remove_garbage(file.read()).split('  ')\n",
    "        docnum.append(counter)\n",
    "\n",
    "listword = [ ]\n",
    "for word, count in counter.most_common(topwords):\n",
    "    listword.append(word) #print('{} :{}'.format(count,word))\n",
    "\n",
    "def word_count(file_name): \n",
    "    with open (file_name) as f:\n",
    "        return(f.read( ).split(' '))\n",
    "\n",
    "words2 = word_count('F: /files/')"
   ]
  },
  {
   "cell_type": "code",
   "execution_count": 5,
   "metadata": {},
   "outputs": [
    {
     "ename": "SyntaxError",
     "evalue": "EOL while scanning string literal (<ipython-input-5-77b238c12233>, line 3)",
     "output_type": "error",
     "traceback": [
      "\u001b[1;36m  File \u001b[1;32m\"<ipython-input-5-77b238c12233>\"\u001b[1;36m, line \u001b[1;32m3\u001b[0m\n\u001b[1;33m    uniqewords = set(words).'union(set(words2))\u001b[0m\n\u001b[1;37m                                               ^\u001b[0m\n\u001b[1;31mSyntaxError\u001b[0m\u001b[1;31m:\u001b[0m EOL while scanning string literal\n"
     ]
    }
   ],
   "source": [
    "\n",
    "uniqewords = set(words).'union(set(words2))\n",
    "\n",
    "numOfWords = dict. fromkeys(uniqewords, 0) \n",
    "for word in words:\n",
    "    numOfWords[word] += 1\n",
    "\n",
    "num0fWords2=dict.fromkeys(uniqewords, 0)\n",
    " for word in words 2:\n",
    "    numOfWords 2 [word] += 1\n",
    "\n",
    "def computeTF(wordDict, bagofWords): \n",
    "    tfDict = {}\n",
    "    bagOfWordsCount=len(bagOfWords)\n",
    "    for word, count in wordDict.items():\n",
    "        tfDict[word] = count / float(bagOfWordsCount)\n",
    "    return tfDict\n",
    "\n",
    "tf_words = computeTF(numOfWords, words )\n",
    "tf words2 = compute TF(numOfWords 2, words2)\n",
    "\n"
   ]
  },
  {
   "cell_type": "code",
   "execution_count": 7,
   "metadata": {},
   "outputs": [
    {
     "ename": "SyntaxError",
     "evalue": "invalid syntax (<ipython-input-7-55ca1234b0f6>, line 3)",
     "output_type": "error",
     "traceback": [
      "\u001b[1;36m  File \u001b[1;32m\"<ipython-input-7-55ca1234b0f6>\"\u001b[1;36m, line \u001b[1;32m3\u001b[0m\n\u001b[1;33m    idfDict =\u001b[0m\n\u001b[1;37m             ^\u001b[0m\n\u001b[1;31mSyntaxError\u001b[0m\u001b[1;31m:\u001b[0m invalid syntax\n"
     ]
    }
   ],
   "source": [
    "def computeIDF (numdocuments):\n",
    "    N = len(numdocuments)\n",
    "    idfDict =\n",
    "    dict.fromkeys(numdocumerits[0].keys(), 0)\n",
    "    for document in numdocuments: \n",
    "         for word, val in document.items( ):\n",
    "                 if val > 0:\n",
    "                    idfDict[word]+=1\n",
    "    for word, val in idfDict.items():\n",
    "         idfDict[word]= math.log(N /float(val))\n",
    "    return idfDict\n",
    "\n",
    "idfs = computeIDF([numOfWords,numofWords2])\n",
    "\n",
    "def computeTFIDF(tf, idfs)\n",
    "    tfidf = {} \n",
    "    for word, val in tf.items():\n",
    "        tfidf[word] = val * idfs[word]\n",
    "    return tfidf\n",
    "\n",
    "tfidfwords = computeTFIDF(tf words, idfs)\n",
    "tfidfwords2 = computeTFIDF(tf_words2,idfs)\n",
    "\n",
    "print(tfidfwords)\n",
    "print(\"++\"*100) \n",
    "print(tfidfwords2)"
   ]
  },
  {
   "cell_type": "code",
   "execution_count": 9,
   "metadata": {},
   "outputs": [
    {
     "name": "stdin",
     "output_type": "stream",
     "text": [
      "Enter your query university helwan\n"
     ]
    },
    {
     "name": "stdout",
     "output_type": "stream",
     "text": [
      "similarity between query and doucument Number 1 is :  0.0\n",
      "similarity between query and doucument Number 2 is :  0.0\n",
      "similarity between query and doucument Number 3 is :  0.0\n",
      "similarity between query and doucument Number 4 is :  0.0\n",
      "similarity between query and doucument Number 5 is :  0.0\n",
      "similarity between query and doucument Number 6 is :  0.4999999999999999\n",
      "similarity between query and doucument Number 7 is :  0.0\n",
      "similarity between query and doucument Number 8 is :  0.9999999999999998\n",
      "similarity between query and doucument Number 9 is :  0.0\n",
      "similarity between query and doucument Number 10 is :  0.4999999999999999\n"
     ]
    }
   ],
   "source": [
    "import re\n",
    "from collections import Counter \n",
    "def cosineSimmilarity(query, document):\n",
    "    inter = set(query.keys()) & set(document.keys())\n",
    "    num = sum([query[x] * document[x] for x in inter])\n",
    "    sum1 = sum([query[x] ** 2 for x in list(query.keys())])\n",
    "    sum2 = sum([document[x] ** 2 for x in list(document.keys())])\n",
    "    den = math.sqrt(sum1) * math.sqrt(sum2)\n",
    "    return float(num) / den\n",
    "\n",
    "WORD = re.compile(r\"\\w+\")\n",
    "\n",
    "def textConvert(text):\n",
    "    words = WORD.findall(text)\n",
    "    return Counter(words)\n",
    "\n",
    "\n",
    "query = input(\"Enter your query\")\n",
    "for i in range(1,11): \n",
    "    path = \"file\" + str(i) + \".txt\"\n",
    "    file = open(path)\n",
    "    document = file.read().replace(\"\\n\", \" \")\n",
    "    file.close()\n",
    "    userquery = textConvert(query)\n",
    "    userdocument = textConvert(document)\n",
    "    sim = cosineSimmilarity(userquery, userdocument)\n",
    "    print(\"similarity between query and doucument Number \" + str(i) + \" is : \", sim)"
   ]
  },
  {
   "cell_type": "code",
   "execution_count": null,
   "metadata": {},
   "outputs": [],
   "source": []
  }
 ],
 "metadata": {
  "kernelspec": {
   "display_name": "Python 3",
   "language": "python",
   "name": "python3"
  },
  "language_info": {
   "codemirror_mode": {
    "name": "ipython",
    "version": 3
   },
   "file_extension": ".py",
   "mimetype": "text/x-python",
   "name": "python",
   "nbconvert_exporter": "python",
   "pygments_lexer": "ipython3",
   "version": "3.8.5"
  }
 },
 "nbformat": 4,
 "nbformat_minor": 4
}
